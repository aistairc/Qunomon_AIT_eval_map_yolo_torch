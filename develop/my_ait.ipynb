{
 "cells": [
  {
   "cell_type": "markdown",
   "metadata": {
    "deletable": false,
    "editable": false
   },
   "source": [
    "# AIT Development notebook"
   ]
  },
  {
   "cell_type": "markdown",
   "metadata": {
    "deletable": false,
    "editable": false
   },
   "source": [
    "## notebook of structure"
   ]
  },
  {
   "cell_type": "markdown",
   "metadata": {
    "deletable": false,
    "editable": false
   },
   "source": [
    "| #  | Name                                               | cells | for_dev | edit               | description                                                                |\n",
    "|----|----------------------------------------------------|-------|---------|--------------------|----------------------------------------------------------------------------|\n",
    "| 1  | [Environment detection](##1-Environment-detection) | 1     | No      | uneditable         | detect whether the notebook are invoked for packaging or in production     |\n",
    "| 2  | [Preparing AIT SDK](##2-Preparing-AIT-SDK)         | 1     | Yes     | uneditable         | download and install AIT SDK                                               |\n",
    "| 3  | [Dependency Management](##3-Dependency-Management) | 3     | Yes     | required(cell #2)  | generate requirements.txt for Docker container                             |\n",
    "| 4  | [Importing Libraries](##4-Importing-Libraries)     | 2     | Yes     | required(cell #1)  | import required libraries                                                  |\n",
    "| 5  | [Manifest Generation](##5-Manifest-Generation)     | 1     | Yes     | required           | generate AIT Manifest                                                      |\n",
    "| 6  | [Prepare for the Input](##6-Prepare-for-the-Input) | 1     | Yes     | required           | generate AIT Input JSON (inventory mapper)                                 |\n",
    "| 7  | [Initialization](##7-Initialization)               | 1     | No      | uneditable         | initialization for AIT execution                                           |\n",
    "| 8  | [Function definitions](##8-Function-definitions)   | N     | No      | required           | define functions invoked from Main area.<br> also define output functions. |\n",
    "| 9  | [Main Algorithms](##9-Main-Algorithms)             | 1     | No      | required           | area for main algorithms of an AIT                                         |\n",
    "| 10 | [Entry point](##10-Entry-point)                    | 1     | No      | uneditable         | an entry point where Qunomon invoke this AIT from here                     |\n",
    "| 11 | [License](##11-License)                            | 1     | Yes     | required           | generate license information                                               |\n",
    "| 12 | [Deployment](##12-Deployment)                      | 1     | Yes     | uneditable         | convert this notebook to the python file for packaging purpose             |"
   ]
  },
  {
   "cell_type": "markdown",
   "metadata": {
    "deletable": false,
    "editable": false
   },
   "source": [
    "## notebook template revision history"
   ]
  },
  {
   "cell_type": "markdown",
   "metadata": {
    "deletable": false,
    "editable": false
   },
   "source": [
    "1.0.1 2020/10/21\n",
    "\n",
    "* add revision history\n",
    "* separate `create requirements and pip install` editable and noeditable\n",
    "* separate `import` editable and noeditable\n",
    "\n",
    "1.0.0 2020/10/12\n",
    "\n",
    "* new cerarion"
   ]
  },
  {
   "cell_type": "markdown",
   "metadata": {
    "deletable": false,
    "editable": false
   },
   "source": [
    "## body"
   ]
  },
  {
   "cell_type": "markdown",
   "metadata": {
    "deletable": false,
    "editable": false
   },
   "source": [
    "### #1 Environment detection"
   ]
  },
  {
   "cell_type": "markdown",
   "metadata": {
    "deletable": false,
    "editable": false
   },
   "source": [
    "[uneditable]"
   ]
  },
  {
   "cell_type": "code",
   "execution_count": 1,
   "metadata": {
    "deletable": false,
    "editable": false
   },
   "outputs": [],
   "source": [
    "# Determine whether to start AIT or jupyter by startup argument\n",
    "import sys\n",
    "is_ait_launch = (len(sys.argv) == 2)"
   ]
  },
  {
   "cell_type": "markdown",
   "metadata": {
    "deletable": false,
    "editable": false
   },
   "source": [
    "### #2 Preparing AIT SDK"
   ]
  },
  {
   "cell_type": "markdown",
   "metadata": {
    "deletable": false,
    "editable": false
   },
   "source": [
    "[uneditable]"
   ]
  },
  {
   "cell_type": "code",
   "execution_count": 2,
   "metadata": {
    "deletable": false,
    "editable": false
   },
   "outputs": [
    {
     "name": "stdout",
     "output_type": "stream",
     "text": [
      "\u001b[33mWARNING: Running pip as the 'root' user can result in broken permissions and conflicting behaviour with the system package manager, possibly rendering your system unusable. It is recommended to use a virtual environment instead: https://pip.pypa.io/warnings/venv. Use the --root-user-action option if you know what you are doing and want to suppress this warning.\u001b[0m\u001b[33m\n",
      "\u001b[0m\u001b[33mWARNING: Running pip as the 'root' user can result in broken permissions and conflicting behaviour with the system package manager, possibly rendering your system unusable. It is recommended to use a virtual environment instead: https://pip.pypa.io/warnings/venv. Use the --root-user-action option if you know what you are doing and want to suppress this warning.\u001b[0m\u001b[33m\n",
      "\u001b[0m"
     ]
    }
   ],
   "source": [
    "if not is_ait_launch:\n",
    "    # get ait-sdk file name\n",
    "    from pathlib import Path\n",
    "    from glob import glob\n",
    "    import re\n",
    "    import os\n",
    "\n",
    "    current_dir = %pwd\n",
    "\n",
    "    ait_sdk_path = \"./ait_sdk-*-py3-none-any.whl\"\n",
    "    ait_sdk_list = glob(ait_sdk_path)\n",
    "    ait_sdk_name = os.path.basename(ait_sdk_list[-1])\n",
    "\n",
    "    # install ait-sdk\n",
    "    !pip install -q --upgrade pip\n",
    "    !pip install -q --no-deps --force-reinstall ./$ait_sdk_name"
   ]
  },
  {
   "cell_type": "markdown",
   "metadata": {
    "deletable": false,
    "editable": false
   },
   "source": [
    "### #3 Dependency Management"
   ]
  },
  {
   "cell_type": "markdown",
   "metadata": {
    "deletable": false,
    "editable": false
   },
   "source": [
    "#### #3-1 [uneditable]"
   ]
  },
  {
   "cell_type": "code",
   "execution_count": 3,
   "metadata": {
    "deletable": false,
    "editable": false
   },
   "outputs": [],
   "source": [
    "if not is_ait_launch:\n",
    "    from ait_sdk.common.files.ait_requirements_generator import AITRequirementsGenerator\n",
    "    requirements_generator = AITRequirementsGenerator()"
   ]
  },
  {
   "cell_type": "markdown",
   "metadata": {
    "deletable": false,
    "editable": false
   },
   "source": [
    "#### #3-2 [required]"
   ]
  },
  {
   "cell_type": "code",
   "execution_count": 4,
   "metadata": {},
   "outputs": [],
   "source": [
    "if not is_ait_launch:\n",
    "    requirements_generator.add_package('torch','2.6.0')\n",
    "    requirements_generator.add_package('torchmetrics', '1.6.2')\n",
    "    requirements_generator.add_package('ultralytics', '8.3.89')\n",
    "    requirements_generator.add_package('pandas', '2.2.3')\n",
    "    requirements_generator.add_package('numpy','2.0.2')\n",
    "    requirements_generator.add_package('opencv-python-headless','4.11.0.86')\n",
    "    requirements_generator.add_package('h5py','3.12.1')\n",
    "    requirements_generator.add_package('matplotlib','3.10.0')\n",
    "    requirements_generator.add_package('scikit-learn','1.6.1')\n",
    "    requirements_generator.add_package('pycocotools', '2.0.8')"
   ]
  },
  {
   "cell_type": "markdown",
   "metadata": {
    "deletable": false,
    "editable": false
   },
   "source": [
    "#### #3-3 [uneditable]"
   ]
  },
  {
   "cell_type": "code",
   "execution_count": 5,
   "metadata": {
    "deletable": false,
    "editable": false
   },
   "outputs": [
    {
     "name": "stdout",
     "output_type": "stream",
     "text": [
      "\u001b[33mWARNING: Running pip as the 'root' user can result in broken permissions and conflicting behaviour with the system package manager, possibly rendering your system unusable. It is recommended to use a virtual environment instead: https://pip.pypa.io/warnings/venv. Use the --root-user-action option if you know what you are doing and want to suppress this warning.\u001b[0m\u001b[33m\n",
      "\u001b[0m"
     ]
    }
   ],
   "source": [
    "if not is_ait_launch:\n",
    "    requirements_generator.add_package(f'./{ait_sdk_name}')\n",
    "    requirements_path = requirements_generator.create_requirements(current_dir)\n",
    "\n",
    "    !pip install -q -r $requirements_path "
   ]
  },
  {
   "cell_type": "markdown",
   "metadata": {
    "deletable": false,
    "editable": false
   },
   "source": [
    "### #4 Importing Libraries"
   ]
  },
  {
   "cell_type": "markdown",
   "metadata": {
    "deletable": false,
    "editable": false
   },
   "source": [
    "#### #4-1 [required]"
   ]
  },
  {
   "cell_type": "code",
   "execution_count": 6,
   "metadata": {},
   "outputs": [
    {
     "name": "stdout",
     "output_type": "stream",
     "text": [
      "Creating new Ultralytics Settings v0.0.6 file ✅ \n",
      "View Ultralytics Settings with 'yolo settings' or at '/root/.config/Ultralytics/settings.json'\n",
      "Update Settings with 'yolo settings key=value', i.e. 'yolo settings runs_dir=path/to/dir'. For help see https://docs.ultralytics.com/quickstart/#ultralytics-settings.\n"
     ]
    }
   ],
   "source": [
    "import h5py\n",
    "import numpy as np\n",
    "import pandas as pd\n",
    "import csv\n",
    "from collections import Counter\n",
    "import torch\n",
    "from torch.utils.data import DataLoader\n",
    "import matplotlib.pyplot as plt\n",
    "from sklearn.metrics import average_precision_score\n",
    "from sklearn.metrics import precision_recall_curve\n",
    "from torchmetrics.detection import MeanAveragePrecision\n",
    "from ultralytics import YOLO"
   ]
  },
  {
   "cell_type": "markdown",
   "metadata": {
    "deletable": false,
    "editable": false
   },
   "source": [
    "#### #4-2 [uneditable]"
   ]
  },
  {
   "cell_type": "code",
   "execution_count": 7,
   "metadata": {
    "deletable": false,
    "editable": false
   },
   "outputs": [],
   "source": [
    "# must use modules\n",
    "from os import path\n",
    "import shutil  # do not remove\n",
    "from ait_sdk.common.files.ait_input import AITInput  # do not remove\n",
    "from ait_sdk.common.files.ait_output import AITOutput  # do not remove\n",
    "from ait_sdk.common.files.ait_manifest import AITManifest  # do not remove\n",
    "from ait_sdk.develop.ait_path_helper import AITPathHelper  # do not remove\n",
    "from ait_sdk.utils.logging import get_logger, log, get_log_path  # do not remove\n",
    "from ait_sdk.develop.annotation import measures, resources, downloads, ait_main  # do not remove\n",
    "# must use modules"
   ]
  },
  {
   "cell_type": "markdown",
   "metadata": {
    "deletable": false,
    "editable": false
   },
   "source": [
    "### #5 Manifest Generation"
   ]
  },
  {
   "cell_type": "markdown",
   "metadata": {
    "deletable": false,
    "editable": false
   },
   "source": [
    "[required]"
   ]
  },
  {
   "cell_type": "code",
   "execution_count": 8,
   "metadata": {},
   "outputs": [],
   "source": [
    "if not is_ait_launch:\n",
    "    from ait_sdk.common.files.ait_manifest_generator import AITManifestGenerator\n",
    "    manifest_generator = AITManifestGenerator(current_dir)\n",
    "    manifest_generator.set_ait_name('eval_map_yolo_torch')\n",
    "    manifest_generator.set_ait_description('pytorchの物体検出モデルの推論結果から、テストデータのmean Average Precision(mAP)をを算出し、精度を評価する。\\\\n \\\\begin{math}AP=\\\\frac{1}{N}\\sum_{i=1}^{N}P(R_{i})\\\\end{math} \\\\n \\\\begin{math}mAP=\\\\frac{1}{C}\\sum_{c=1}^{C}AP_{c}\\\\end{math}  \\\\n ここで、\\\\begin{math}R_{i}\\\\end{math}は異なる再現率のポイント、\\\\begin{math}P(R_{i})\\\\end{math}はその点での適合率、Cはクラス数、\\\\begin{math}AP_{c}\\\\end{math}はクラスcに対するAverage Precision(AP)')\n",
    "    manifest_generator.set_ait_source_repository('https://github.com/aistairc/Qunomon_AIT_eval_map_yolo_torch')\n",
    "    manifest_generator.set_ait_version('0.2')\n",
    "    manifest_generator.add_ait_keywords('AIT')\n",
    "    manifest_generator.add_ait_keywords('Object Detection')\n",
    "    manifest_generator.add_ait_keywords('Yolo')\n",
    "    manifest_generator.add_ait_keywords('mAP')\n",
    "    manifest_generator.set_ait_quality('https://ait-hub.pj.aist.go.jp/ait-hub/api/0.0.1/qualityDimensions/機械学習品質マネジメントガイドライン第三版/C-1機械学習モデルの正確性')\n",
    "    #### Inventories\n",
    "    inventory_requirement_dataset = manifest_generator.format_ait_inventory_requirement(format_=['h5'])\n",
    "    manifest_generator.add_ait_inventories(name='test_dataset',\n",
    "                                             type_='dataset',\n",
    "                                             description=\"テスト用データセットを格納したHDF5ファイル。 HDF5ファイルの内部に2つのデータセットを用意する(1)モデルに入力される画像データセット(データセット(1)の要素数はmodelの入力層の要素数と一致)(2)各画像データのyolo形式の正解ラベル（バウンディングボックスとクラス情報）を含むデータセット(データセット(2)の要素数はmodelの出力層の要素数と一致))\",\n",
    "                                             requirement=inventory_requirement_dataset)\n",
    "    inventory_requirement_trained_model = manifest_generator.format_ait_inventory_requirement(format_=['.torchscript'])\n",
    "    manifest_generator.add_ait_inventories(name='trained_model', \n",
    "                                             type_='model', \n",
    "                                             description='TorchScript形式でexportしたYOLOの物体検出モデル（.torchscript）。入力と出力の要素数はtest_dataset inventoryと一致させる',\n",
    "                                             requirement=inventory_requirement_trained_model)\n",
    "    #### Parameters\n",
    "    manifest_generator.add_ait_parameters(name='test_image_dataset_name',\n",
    "                                          type_='str',\n",
    "                                          description='HDF5形式のテスト用ファイル内の画像データセット(1)の名前.要素数はmodelの入力層の要素数と一致',\n",
    "                                          default_val='image_dataset_name')\n",
    "    manifest_generator.add_ait_parameters(name='test_label_dataset_name',\n",
    "                                          type_='str',\n",
    "                                          description='HDF5形式のテスト用ファイル内のラベルデータセット(2)の名前.クラスラベル値の数はmodelの出力層の要素数と一致',\n",
    "                                          default_val='label_dataset_name')\n",
    "    manifest_generator.add_ait_parameters(name='image_count',\n",
    "                                          type_='int',\n",
    "                                          description='使用する画像数',\n",
    "                                          default_val='1000')\n",
    "    manifest_generator.add_ait_parameters(name='iou_threshold',\n",
    "                                          type_='int',\n",
    "                                          description='平均適合率(mAP)を計算するときのIoU(Intersection over Union)の閾値',\n",
    "                                          default_val='0')\n",
    "    #### Measures\n",
    "    manifest_generator.add_ait_measures(name='mAP',\n",
    "                                        type_='float',\n",
    "                                        structure='single',\n",
    "                                        description='IoUの閾値がiou_thresholdのときの平均適合率')\n",
    "    #### Resources\n",
    "    manifest_generator.add_ait_resources(name='precision_recall_curve',\n",
    "                                         type_='picture',\n",
    "                                         description='各クラスのprecision_recall曲線のプロット')\n",
    "    manifest_generator.add_ait_resources(name='mAP_results',\n",
    "                                         type_='table',\n",
    "                                         description='IoUの閾値が0.5のときの平均適合率,IoUの閾値が0.75のときの平均適合率,IoUの閾値がiou_thresholdのときの物体サイズ別(面積が0~1024,1024~9216,9216~)の平均適合率をまとめたテーブル')\n",
    "    #### Downloads\n",
    "    manifest_generator.add_ait_downloads(name='bboxes_iou_values',\n",
    "                                         description='画像ファイルごとの真のバウンディングボックス、真のラベル、予測されたバウンディングボックス、予測ラベル、およびIoUの値を示す表')\n",
    "    manifest_generator.add_ait_downloads(name='Log',\n",
    "                                         description='AIT実行ログ')\n",
    "\n",
    "    manifest_path = manifest_generator.write()"
   ]
  },
  {
   "cell_type": "markdown",
   "metadata": {
    "deletable": false,
    "editable": false
   },
   "source": [
    "### #6 Prepare for the Input"
   ]
  },
  {
   "cell_type": "markdown",
   "metadata": {
    "deletable": false,
    "editable": false
   },
   "source": [
    "[required]"
   ]
  },
  {
   "cell_type": "code",
   "execution_count": 9,
   "metadata": {},
   "outputs": [],
   "source": [
    "if not is_ait_launch:\n",
    "    from ait_sdk.common.files.ait_input_generator import AITInputGenerator\n",
    "    input_generator = AITInputGenerator(manifest_path)\n",
    "    input_generator.add_ait_inventories(name='trained_model',\n",
    "                                        value='model/best.torchscript')\n",
    "    input_generator.add_ait_inventories(name='test_dataset',\n",
    "                                        value='data/bdd100k_test.h5')\n",
    "    input_generator.set_ait_params(\"test_image_dataset_name\", \"images\")\n",
    "    input_generator.set_ait_params(\"test_label_dataset_name\", \"yolo_labels\")\n",
    "\n",
    "    input_generator.write()"
   ]
  },
  {
   "cell_type": "markdown",
   "metadata": {
    "deletable": false,
    "editable": false
   },
   "source": [
    "### #7 Initialization"
   ]
  },
  {
   "cell_type": "markdown",
   "metadata": {
    "deletable": false,
    "editable": false
   },
   "source": [
    "[uneditable]"
   ]
  },
  {
   "cell_type": "code",
   "execution_count": 10,
   "metadata": {
    "deletable": false,
    "editable": false
   },
   "outputs": [],
   "source": [
    "logger = get_logger()\n",
    "\n",
    "ait_manifest = AITManifest()\n",
    "ait_input = AITInput(ait_manifest)\n",
    "ait_output = AITOutput(ait_manifest)\n",
    "\n",
    "if is_ait_launch:\n",
    "    # launch from AIT\n",
    "    current_dir = path.dirname(path.abspath(__file__))\n",
    "    path_helper = AITPathHelper(argv=sys.argv, ait_input=ait_input, ait_manifest=ait_manifest, entry_point_dir=current_dir)\n",
    "else:\n",
    "    # launch from jupyter notebook\n",
    "    # ait.input.json make in input_dir\n",
    "    input_dir = '/usr/local/qai/mnt/ip/job_args/1/1'\n",
    "    current_dir = %pwd\n",
    "    path_helper = AITPathHelper(argv=['', input_dir], ait_input=ait_input, ait_manifest=ait_manifest, entry_point_dir=current_dir)\n",
    "\n",
    "ait_input.read_json(path_helper.get_input_file_path())\n",
    "ait_manifest.read_json(path_helper.get_manifest_file_path())\n",
    "\n",
    "### do not edit cell"
   ]
  },
  {
   "cell_type": "markdown",
   "metadata": {
    "deletable": false,
    "editable": false
   },
   "source": [
    "### #8 Function definitions"
   ]
  },
  {
   "cell_type": "markdown",
   "metadata": {
    "deletable": false,
    "editable": false
   },
   "source": [
    "[required]"
   ]
  },
  {
   "cell_type": "code",
   "execution_count": 11,
   "metadata": {},
   "outputs": [],
   "source": [
    "# YOLO用のラベルデータをリストに変換する関数\n",
    "@log(logger)\n",
    "def decode_all_labels(yolo_labels):\n",
    "    decoded_all_labels = {}\n",
    "    for num, yolo_label in enumerate(yolo_labels):\n",
    "        decoded_label = yolo_label.decode(\"utf-8\").strip()\n",
    "        label_lines = decoded_label.split(\"\\n\")\n",
    "        # クラスラベルとバウンディングボックスを格納した辞書を作成\n",
    "        yolo_data = [{\"class_id\": int(line.split()[0]), \"bbox\": list(map(float, line.split()[1:]))} for line in label_lines]\n",
    "        decoded_all_labels[num] = yolo_data\n",
    "    return decoded_all_labels\n",
    "\n",
    "# YOLO用の形式のデータを（x1, y1, x2, y2）に変換する関数\n",
    "@log(logger)\n",
    "def yolo_to_bbox(yolo_data_dict, img_width=640, img_height=640):\n",
    "    bbox_all_labels = {}\n",
    "    for image_id, yolo_data in yolo_data_dict.items():\n",
    "        bbox_labels = []\n",
    "        cls_labels = []\n",
    "        for data in yolo_data:\n",
    "            cls_id, (x_center, y_center, width, height) = data[\"class_id\"], data[\"bbox\"]\n",
    "            x_min = int((x_center - width / 2) * img_width)\n",
    "            y_min = int((y_center - height / 2) * img_height)\n",
    "            x_max = int((x_center + width / 2) * img_width)\n",
    "            y_max = int((y_center + height / 2) * img_height)\n",
    "            bbox_labels.append([x_min, y_min, x_max, y_max])\n",
    "            cls_labels.append(cls_id)\n",
    "        bbox_all_labels[image_id] = {\n",
    "            \"boxes\": torch.tensor(bbox_labels),\n",
    "            \"labels\": torch.tensor(cls_labels)\n",
    "        }\n",
    "    return bbox_all_labels"
   ]
  },
  {
   "cell_type": "code",
   "execution_count": 12,
   "metadata": {},
   "outputs": [],
   "source": [
    "@log(logger)\n",
    "def calculate_map(model, images, labels, threshold):\n",
    "    \"\"\"\n",
    "    mAPを計算する関数\n",
    "    \"\"\"\n",
    "    metric = MeanAveragePrecision(iou_type=\"bbox\")\n",
    "\n",
    "    for num, result in enumerate(model(images, verbose=False)):\n",
    "        # 予測したバウンディングボックスとクラスラベルと信頼度の取得\n",
    "        pred_boxes = result.boxes.xyxy.cpu()  # xyxy形式の予測バウンディングボックス\n",
    "        pred_scores = result.boxes.conf.cpu()  # 各予測バウンディングボックスの信頼度（スコア）\n",
    "        pred_labels = result.boxes.cls.cpu().to(torch.int64)  # 予測されたクラスラベル\n",
    "\n",
    "        # 予測スコアがしきい値以下のものは除外\n",
    "        valid_preds = pred_scores >= threshold\n",
    "        pred_boxes = pred_boxes[valid_preds]\n",
    "        pred_scores = pred_scores[valid_preds]\n",
    "        pred_labels = pred_labels[valid_preds]\n",
    "\n",
    "        # 正解ラベルからバウンディングボックスとクラスラベルの取得\n",
    "        gt_boxes, gt_labels = labels[num][\"boxes\"], labels[num][\"labels\"]\n",
    "\n",
    "        # 評価指標の更新（予測とターゲットを更新）\n",
    "        metric.update(\n",
    "            preds=[{\"boxes\": pred_boxes, \"scores\": pred_scores, \"labels\": pred_labels}],\n",
    "            target=[{\"boxes\": gt_boxes, \"labels\": gt_labels}]\n",
    "        )\n",
    "\n",
    "    # mAPの算出\n",
    "    mAP = metric.compute()[\"map\"]\n",
    "    return mAP"
   ]
  },
  {
   "cell_type": "code",
   "execution_count": 13,
   "metadata": {},
   "outputs": [],
   "source": [
    "@log(logger)\n",
    "@resources(ait_output, path_helper, 'precision_recall_curve','precision_recall_curve.png')\n",
    "def plot_pr_curves(model, images, labels, threshold, num_classes, file_path: str=None):\n",
    "    \"\"\"\n",
    "    各クラスのPR曲線をプロットし、クラスごとのAP（平均適合率）を出力する関数\n",
    "    \"\"\"\n",
    "    all_aps = []  # 各クラスのAPを保存するリスト\n",
    "\n",
    "    for class_id in range(num_classes):\n",
    "        pred_scores_all = []\n",
    "        gt_labels_all = []\n",
    "\n",
    "        # モデルの予測結果を取得\n",
    "        for num, result in enumerate(model(images, verbose=False, stream=True)):\n",
    "            # 予測スコアとラベルを収集\n",
    "            pred_scores = result.boxes.conf.cpu().numpy()  # 予測スコア\n",
    "            pred_labels = result.boxes.cls.cpu().numpy()  # 予測ラベル\n",
    "\n",
    "            # 正解ラベル\n",
    "            gt_labels = labels[num][\"labels\"].cpu().numpy()\n",
    "\n",
    "            # 閾値より低い予測スコアを無視\n",
    "            high_conf_mask = pred_scores >= threshold\n",
    "            pred_scores = pred_scores[high_conf_mask]\n",
    "            pred_labels = pred_labels[high_conf_mask]\n",
    "\n",
    "            # 各予測がクラスに一致するか確認\n",
    "            for i in range(len(pred_scores)):\n",
    "                pred_scores_all.append(pred_scores[i])  # 予測スコアを追加\n",
    "                gt_labels_all.append(int(pred_labels[i] == class_id))  # クラスIDが予測ラベルに一致するかどうか\n",
    "\n",
    "        # 1D配列に変換\n",
    "        pred_scores_all = np.array(pred_scores_all)\n",
    "        gt_labels_all = np.array(gt_labels_all)\n",
    "\n",
    "        # クラスごとのPrecisionとRecallを計算\n",
    "        if len(pred_scores_all) > 0:\n",
    "            precision, recall, _ = precision_recall_curve(gt_labels_all, pred_scores_all)\n",
    "            \n",
    "            # APの計算\n",
    "            ap = average_precision_score(gt_labels_all, pred_scores_all)\n",
    "            all_aps.append(ap)\n",
    "            \n",
    "            # PR曲線をプロット\n",
    "            #plt.plot(recall, precision, label=f\"Class {class_id} (AP = {ap:.4f})\")\n",
    "            plt.plot(recall, precision, label=f\"Class {class_id}\")\n",
    "        else:\n",
    "            print(f\"Class {class_id} has no predictions\")\n",
    "\n",
    "    # グラフの設定\n",
    "    plt.xlabel('Recall')\n",
    "    plt.ylabel('Precision')\n",
    "    plt.title('PR Curve for Each Class')\n",
    "    plt.legend(loc=\"best\")\n",
    "    plt.savefig(file_path)\n",
    "    plt.show()\n",
    "    \n",
    "    return file_path"
   ]
  },
  {
   "cell_type": "code",
   "execution_count": 14,
   "metadata": {},
   "outputs": [],
   "source": [
    "@log(logger)\n",
    "def calculate_map_by_size(model, images, labels, threshold):\n",
    "    \"\"\"\n",
    "    サイズごとのmAP（小・中・大）を計算する関数\n",
    "    \"\"\"\n",
    "    # サイズごとのmAPを計算するための初期化\n",
    "    map_small = MeanAveragePrecision(iou_type=\"bbox\")\n",
    "    map_medium = MeanAveragePrecision(iou_type=\"bbox\")\n",
    "    map_large = MeanAveragePrecision(iou_type=\"bbox\")\n",
    "    \n",
    "    for num, result in enumerate(model(images, verbose=False)):\n",
    "        \n",
    "        # 予測したバウンディングボックスとクラスラベルと信頼度の取得\n",
    "        pred_boxes = result.boxes.xyxy.cpu()\n",
    "        pred_scores = result.boxes.conf.cpu()\n",
    "        pred_labels = result.boxes.cls.cpu().to(torch.int64)\n",
    "        \n",
    "        # 予測スコアがしきい値以下のものは除外\n",
    "        valid_preds = pred_scores >= threshold\n",
    "        pred_boxes = pred_boxes[valid_preds]\n",
    "        pred_scores = pred_scores[valid_preds]\n",
    "        pred_labels = pred_labels[valid_preds]\n",
    "        \n",
    "        # 正解ラベルからバウンディングボックスとクラスラベルの取得\n",
    "        gt_boxes, gt_labels = labels[num][\"boxes\"], labels[num][\"labels\"]\n",
    "        \n",
    "        # 各物体のサイズを計算して、サイズごとに分類\n",
    "        for i, gt_bbox in enumerate(gt_boxes):\n",
    "            width = gt_bbox[2] - gt_bbox[0]\n",
    "            height = gt_bbox[3] - gt_bbox[1]\n",
    "            area = width * height\n",
    "            \n",
    "            # サイズの分類\n",
    "            if area <= 1024:  # 小さい物体の例\n",
    "                map_small.update(\n",
    "                    preds=[{\"boxes\": pred_boxes, \"scores\": pred_scores, \"labels\": pred_labels}],\n",
    "                    target=[{\"boxes\": gt_boxes, \"labels\": gt_labels}]\n",
    "                )\n",
    "            elif area <= 9216:  # 中くらいの物体の例\n",
    "                map_medium.update(\n",
    "                    preds=[{\"boxes\": pred_boxes, \"scores\": pred_scores, \"labels\": pred_labels}],\n",
    "                    target=[{\"boxes\": gt_boxes, \"labels\": gt_labels}]\n",
    "                )\n",
    "            else:  # 大きな物体の例\n",
    "                map_large.update(\n",
    "                    preds=[{\"boxes\": pred_boxes, \"scores\": pred_scores, \"labels\": pred_labels}],\n",
    "                    target=[{\"boxes\": gt_boxes, \"labels\": gt_labels}]\n",
    "                )\n",
    "    \n",
    "    # 各サイズごとのmAPを計算\n",
    "    mAP_small = map_small.compute()[\"map\"]\n",
    "    mAP_medium = map_medium.compute()[\"map\"]\n",
    "    mAP_large = map_large.compute()[\"map\"]\n",
    "    \n",
    "    return mAP_small, mAP_medium, mAP_large\n"
   ]
  },
  {
   "cell_type": "code",
   "execution_count": 15,
   "metadata": {},
   "outputs": [],
   "source": [
    "@log(logger)\n",
    "@resources(ait_output, path_helper, 'mAP_results','map_results.csv')\n",
    "def save_map_to_csv(mAP, mAP_50, mAP_75, mAP_small, mAP_medium, mAP_large, file_path: str=None):\n",
    "    # 結果をCSV形式で保存\n",
    "    headers = [\"Metric\", \"Value\"]\n",
    "    rows = [\n",
    "        [\"Mean Average Precision (mAP) [iou_threshold]\", mAP.item()],\n",
    "        [\"Mean Average Precision (mAP) [0.5]\", mAP_50.item()],\n",
    "        [\"Mean Average Precision (mAP) [0.75]\", mAP_75.item()],\n",
    "        [\"Mean Average Precision (mAP) for Small Objects\", mAP_small.item()],\n",
    "        [\"Mean Average Precision (mAP) for Medium Objects\", mAP_medium.item()],\n",
    "        [\"Mean Average Precision (mAP) for Large Objects\", mAP_large.item()]\n",
    "    ]\n",
    "    # CSVファイルに書き込む\n",
    "    with open(file_path, mode='w', newline='') as file:\n",
    "        writer = csv.writer(file)\n",
    "        writer.writerow(headers)  # ヘッダー行の書き込み\n",
    "        writer.writerows(rows)    # 結果の書き込み\n",
    "    print(f\"Results saved to map_results.csv\")\n",
    "    \n",
    "    return file_path"
   ]
  },
  {
   "cell_type": "code",
   "execution_count": 16,
   "metadata": {},
   "outputs": [],
   "source": [
    "@log(logger)\n",
    "def calculate_iou(bbox1, bbox2):\n",
    "    \"\"\"\n",
    "    2つのバウンディングボックスのIoUを計算する関数\n",
    "    bbox1, bbox2は [xmin, ymin, xmax, ymax] の形式で与えられる\n",
    "    \"\"\"\n",
    "    x1, y1, x2, y2 = bbox1\n",
    "    xx1, yy1, xx2, yy2 = bbox2\n",
    "\n",
    "    # 重なり領域の座標を計算\n",
    "    x_intersection = max(x1, xx1)\n",
    "    y_intersection = max(y1, yy1)\n",
    "    x_union = min(x2, xx2)\n",
    "    y_union = min(y2, yy2)\n",
    "\n",
    "    # 面積の計算\n",
    "    intersection_area = max(0, x_union - x_intersection) * max(0, y_union - y_intersection)\n",
    "    bbox1_area = (x2 - x1) * (y2 - y1)\n",
    "    bbox2_area = (xx2 - xx1) * (yy2 - yy1)\n",
    "\n",
    "    # IoUを計算\n",
    "    union_area = bbox1_area + bbox2_area - intersection_area\n",
    "    iou = intersection_area / union_area if union_area != 0 else 0\n",
    "\n",
    "    return iou\n"
   ]
  },
  {
   "cell_type": "code",
   "execution_count": 17,
   "metadata": {},
   "outputs": [],
   "source": [
    "@log(logger)\n",
    "@downloads(ait_output, path_helper, 'bboxes_iou_values', 'bboxes_iou_values.csv')\n",
    "def output_bbox_csv(model, images, labels, threshold, num_classes, file_path: str = None):\n",
    "    \"\"\"\n",
    "    バウンディングボックスごとの情報（画像名、真のバウンディングボックス、予測バウンディングボックス、予測ラベル、IoU値）をCSVに出力する関数\n",
    "    \"\"\"\n",
    "    bboxes_iou_values = []\n",
    "\n",
    "    for num, result in enumerate(model(images, verbose=False, stream=True)):\n",
    "        image_name = f\"image_{num}\"  # 画像名\n",
    "        pred_scores = result.boxes.conf.cpu().numpy()  # 予測スコア\n",
    "        pred_labels = result.boxes.cls.cpu().numpy()  # 予測ラベル\n",
    "        pred_bboxes = result.boxes.xywh.cpu().numpy()  # 予測バウンディングボックス (x_center, y_center, width, height)\n",
    "        \n",
    "        gt_labels = labels[num][\"labels\"].cpu().numpy()  # 真のラベル\n",
    "        gt_bboxes = labels[num][\"boxes\"].cpu().numpy()  # 真のバウンディングボックス (xmin, ymin, xmax, ymax)\n",
    "        \n",
    "        # 予測バウンディングボックスが無い場合、スキップする\n",
    "        if len(pred_scores) == 0:\n",
    "            continue  # 予測がない場合は次の画像へ\n",
    "        for i, pred_score in enumerate(pred_scores):\n",
    "            if pred_score >= threshold:  # しきい値を超える予測のみ処理\n",
    "                pred_bbox = pred_bboxes[i]  # 予測バウンディングボックス\n",
    "                pred_bbox = [pred_bbox[0] - pred_bbox[2] / 2,  # xmin\n",
    "                             pred_bbox[1] - pred_bbox[3] / 2,  # ymin\n",
    "                             pred_bbox[0] + pred_bbox[2] / 2,  # xmax\n",
    "                             pred_bbox[1] + pred_bbox[3] / 2]  # ymax\n",
    "                pred_label = int(pred_labels[i])\n",
    "                matched = False  # 予測が対応する真のラベルと一致するか確認するフラグ\n",
    "                # 真のラベルと一致する予測を見つける\n",
    "                for j, gt_label in enumerate(gt_labels):\n",
    "                    gt_bbox = gt_bboxes[j]  # 真のバウンディングボックス\n",
    "                    # IoUを計算\n",
    "                    iou = calculate_iou(pred_bbox, gt_bbox)\n",
    "                    if iou > 0:  # IoUが0より大きければ、一致したとみなす\n",
    "                        matched = True\n",
    "                        # bboxes_iou_valuesに追加\n",
    "                        bboxes_iou_values.append({\n",
    "                            'image_name': image_name,\n",
    "                            'true_bbox': ', '.join(map(str, gt_bbox)),\n",
    "                            'true_label': gt_label,\n",
    "                            'pred_bbox': ', '.join(map(str, pred_bbox)),\n",
    "                            'pred_label': pred_label,\n",
    "                            'iou': round(iou, 4)\n",
    "                        })\n",
    "                        break\n",
    "                # 真のバウンディングボックスが無い場合（偽陽性）\n",
    "                if not matched:\n",
    "                    # 真のバウンディングボックスが無いが予測がある場合は、IoUを0として記録\n",
    "                    bboxes_iou_values.append({\n",
    "                        'image_name': image_name,\n",
    "                        'true_bbox': \"None\",\n",
    "                        'true_label': \"None\",\n",
    "                        'pred_bbox': ', '.join(map(str, pred_bbox)),\n",
    "                        'pred_label': pred_label,\n",
    "                        'iou': 0.0\n",
    "                    })\n",
    "        # 真のバウンディングボックスがあって予測が無い場合（偽陰性）\n",
    "        for j, gt_label in enumerate(gt_labels):\n",
    "            gt_bbox = gt_bboxes[j]  # 真のバウンディングボックス\n",
    "            # 真のバウンディングボックスがあり、予測が無い場合はIoU計算なし\n",
    "            bboxes_iou_values.append({\n",
    "                'image_name': image_name,\n",
    "                'true_bbox': ', '.join(map(str, gt_bbox)),\n",
    "                'true_label': gt_label,\n",
    "                'pred_bbox': \"None\",\n",
    "                'pred_label': \"None\",\n",
    "                'iou': 0.0\n",
    "            })\n",
    "\n",
    "    # `bboxes_iou_values` をDataFrameとして保存\n",
    "    bboxes_iou_df = pd.DataFrame(bboxes_iou_values)\n",
    "    bboxes_iou_df.to_csv(file_path, index=False)\n",
    "    print(f\"IOU values have been saved to {file_path}\")"
   ]
  },
  {
   "cell_type": "code",
   "execution_count": 18,
   "metadata": {},
   "outputs": [],
   "source": [
    "@log(logger)\n",
    "@measures(ait_output, 'mAP')\n",
    "def calc_map(map):\n",
    "    return map"
   ]
  },
  {
   "cell_type": "code",
   "execution_count": 19,
   "metadata": {},
   "outputs": [],
   "source": [
    "@log(logger)\n",
    "@downloads(ait_output, path_helper, 'Log', 'ait.log')\n",
    "def move_log(file_path: str=None):\n",
    "    shutil.move(get_log_path(), file_path)"
   ]
  },
  {
   "cell_type": "markdown",
   "metadata": {
    "deletable": false,
    "editable": false
   },
   "source": [
    "### #9 Main Algorithms"
   ]
  },
  {
   "cell_type": "markdown",
   "metadata": {
    "deletable": false,
    "editable": false
   },
   "source": [
    "[required]"
   ]
  },
  {
   "cell_type": "code",
   "execution_count": 20,
   "metadata": {},
   "outputs": [],
   "source": [
    "@log(logger)\n",
    "@ait_main(ait_output, path_helper)\n",
    "def main() -> None:\n",
    "    #テストデータの読み込み\n",
    "    test_h5 = ait_input.get_inventory_path('test_dataset')\n",
    "    image_dataset_name = ait_input.get_method_param_value('test_image_dataset_name')\n",
    "    yolo_label_dataset_name = ait_input.get_method_param_value('test_label_dataset_name')\n",
    "    image_count = ait_input.get_method_param_value('image_count')\n",
    "    #モデルの読み込み\n",
    "    model_path = ait_input.get_inventory_path('trained_model')\n",
    "    trained_model = YOLO(model_path, task = 'detect')\n",
    "    \n",
    "    with h5py.File(test_h5,\"r\") as h5:\n",
    "        yolo_labels = np.array(h5[yolo_label_dataset_name][:image_count])\n",
    "        images=np.array(h5[image_dataset_name][:image_count])\n",
    "    #イメージの高さと幅を取得\n",
    "    _, image_height, image_width, _ = images.shape\n",
    "    decoded_labels = decode_all_labels(yolo_labels)\n",
    "    bbox_all_labels = yolo_to_bbox(decoded_labels,img_width=image_width,img_height=image_height)\n",
    "    \n",
    "    # bbox_all_labels のクラス数を計算\n",
    "    all_labels = []\n",
    "    for image_id, label_data in bbox_all_labels.items():\n",
    "        all_labels.extend(label_data[\"labels\"].tolist())\n",
    "    unique_labels = np.unique(all_labels)\n",
    "    num_classes = len(unique_labels)\n",
    "    \n",
    "    #推論用の画像の用意\n",
    "    norm_images=images.astype(np.float32)/255\n",
    "    norm_images_t = np.transpose(norm_images,(0,3,1,2))\n",
    "    norm_images_tensor = torch.tensor(norm_images_t)\n",
    "    \n",
    "    iou_threshold = ait_input.get_method_param_value('iou_threshold')\n",
    "    # mAPの計算\n",
    "    mAP = calculate_map(trained_model, norm_images_tensor, bbox_all_labels, threshold=iou_threshold)\n",
    "    print(f\"Mean Average Precision (mAP)[iou_threshold]: {mAP:.4f}\")\n",
    "    calc_map(mAP.item())\n",
    "    # PR曲線のプロット\n",
    "    plot_pr_curves(trained_model, norm_images_tensor, bbox_all_labels, threshold=iou_threshold, num_classes=num_classes)\n",
    "    \n",
    "    mAP_50 = calculate_map(trained_model, norm_images_tensor, bbox_all_labels, threshold=0.5)\n",
    "    mAP_75 = calculate_map(trained_model, norm_images_tensor, bbox_all_labels, threshold=0.75)\n",
    "    # サイズごとのmAPの計算\n",
    "    mAP_small, mAP_medium, mAP_large = calculate_map_by_size(trained_model, norm_images_tensor, bbox_all_labels, threshold=iou_threshold)\n",
    "    # CSVに保存\n",
    "    save_map_to_csv(mAP, mAP_50, mAP_75, mAP_small, mAP_medium, mAP_large)\n",
    "    \n",
    "    # バウンディングボックス情報のCSV出力\n",
    "    output_bbox_csv(trained_model, norm_images_tensor, bbox_all_labels, threshold=iou_threshold, num_classes=num_classes)\n",
    "\n",
    "    move_log()"
   ]
  },
  {
   "cell_type": "markdown",
   "metadata": {
    "deletable": false,
    "editable": false
   },
   "source": [
    "### #10 Entry point"
   ]
  },
  {
   "cell_type": "markdown",
   "metadata": {
    "deletable": false,
    "editable": false
   },
   "source": [
    "[uneditable]"
   ]
  },
  {
   "cell_type": "code",
   "execution_count": 21,
   "metadata": {
    "deletable": false,
    "editable": false
   },
   "outputs": [
    {
     "name": "stdout",
     "output_type": "stream",
     "text": [
      "Loading /usr/local/qai/inventory/model/best.torchscript for TorchScript inference...\n",
      "Mean Average Precision (mAP)[iou_threshold]: 0.1180\n"
     ]
    },
    {
     "name": "stderr",
     "output_type": "stream",
     "text": [
      "/usr/local/lib/python3.10/site-packages/sklearn/metrics/_ranking.py:1033: UserWarning: No positive class found in y_true, recall is set to one for all thresholds.\n",
      "  warnings.warn(\n",
      "/usr/local/lib/python3.10/site-packages/sklearn/metrics/_ranking.py:1033: UserWarning: No positive class found in y_true, recall is set to one for all thresholds.\n",
      "  warnings.warn(\n"
     ]
    },
    {
     "data": {
      "image/png": "[encoded data removed]",
      "text/plain": [
       "<Figure size 640x480 with 1 Axes>"
      ]
     },
     "metadata": {},
     "output_type": "display_data"
    },
    {
     "name": "stdout",
     "output_type": "stream",
     "text": [
      "Results saved to map_results.csv\n",
      "IOU values have been saved to /usr/local/qai/mnt/ip/job_result/1/1/downloads/bboxes_iou_values/bboxes_iou_values.csv\n"
     ]
    }
   ],
   "source": [
    "if __name__ == '__main__':\n",
    "    main()"
   ]
  },
  {
   "cell_type": "markdown",
   "metadata": {
    "deletable": false,
    "editable": false
   },
   "source": [
    "### #11 License"
   ]
  },
  {
   "cell_type": "markdown",
   "metadata": {
    "deletable": false,
    "editable": false
   },
   "source": [
    "[required]"
   ]
  },
  {
   "cell_type": "code",
   "execution_count": 22,
   "metadata": {},
   "outputs": [],
   "source": [
    "ait_owner='AIST'\n",
    "ait_creation_year='2025'"
   ]
  },
  {
   "cell_type": "markdown",
   "metadata": {
    "deletable": false,
    "editable": false
   },
   "source": [
    "### #12 Deployment"
   ]
  },
  {
   "cell_type": "markdown",
   "metadata": {
    "deletable": false,
    "editable": false
   },
   "source": [
    "[uneditable] "
   ]
  },
  {
   "cell_type": "code",
   "execution_count": 23,
   "metadata": {
    "deletable": false,
    "editable": false
   },
   "outputs": [],
   "source": [
    "if not is_ait_launch:\n",
    "    from ait_sdk.deploy import prepare_deploy\n",
    "    from ait_sdk.license.license_generator import LicenseGenerator\n",
    "    \n",
    "    current_dir = %pwd\n",
    "    prepare_deploy(ait_sdk_name, current_dir, requirements_path)\n",
    "    \n",
    "    # output License.txt\n",
    "    license_generator = LicenseGenerator()\n",
    "    license_generator.write('../top_dir/LICENSE.txt', ait_creation_year, ait_owner)\n"
   ]
  },
  {
   "cell_type": "code",
   "execution_count": null,
   "metadata": {},
   "outputs": [],
   "source": []
  }
 ],
 "metadata": {
  "celltoolbar": "Edit Metadata",
  "kernelspec": {
   "display_name": "Python 3 (ipykernel)",
   "language": "python",
   "name": "python3"
  },
  "language_info": {
   "codemirror_mode": {
    "name": "ipython",
    "version": 3
   },
   "file_extension": ".py",
   "mimetype": "text/x-python",
   "name": "python",
   "nbconvert_exporter": "python",
   "pygments_lexer": "ipython3",
   "version": "3.10.16"
  },
  "vscode": {
   "interpreter": {
    "hash": "cc00c6a56d87bd8bd7773e730c60ddfdb8804da6b7537df09499efbcf81630f7"
   }
  }
 },
 "nbformat": 4,
 "nbformat_minor": 4
}
